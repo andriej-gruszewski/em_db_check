{
 "cells": [
  {
   "cell_type": "code",
   "execution_count": 6,
   "id": "f33a7ce2",
   "metadata": {},
   "outputs": [],
   "source": [
    "import pandas as pd\n",
    "import websocket, json"
   ]
  },
  {
   "cell_type": "code",
   "execution_count": 7,
   "id": "898846f0",
   "metadata": {},
   "outputs": [],
   "source": [
    "from sqlalchemy import create_engine"
   ]
  },
  {
   "cell_type": "code",
   "execution_count": 8,
   "id": "687aa885",
   "metadata": {},
   "outputs": [],
   "source": [
    "engine = create_engine('sqlite:///CryptoDB.db')"
   ]
  },
  {
   "cell_type": "code",
   "execution_count": 9,
   "id": "c2097131",
   "metadata": {},
   "outputs": [],
   "source": [
    "stream = 'wss://stream.binance.com:9443/ws/!miniTicker@arr'"
   ]
  },
  {
   "cell_type": "code",
   "execution_count": null,
   "id": "5eb69111",
   "metadata": {},
   "outputs": [],
   "source": [
    "def on_message(ws, message):\n",
    "    msg = json.loads(message)\n",
    "    symbol = [x for x in msg if x['s'].endswith('USDT')]\n",
    "    frame = pd.DataFrame(symbol)[['E','s','c']]\n",
    "    frame.E = pd.to_datetime(frame.E, unit='ms')\n",
    "    frame.c = frame.c.astype(float)\n",
    "    for row in range(len(frame)):\n",
    "        data = frame[row:row+1]\n",
    "        data[['E', 'c']].to_sql(data['s'].values[0], engine, index=False, if_exists='append')\n",
    "        \n",
    "ws = websocket.WebSocketApp(stream, on_message=on_message)\n",
    "ws.run_forever()\n",
    "    "
   ]
  },
  {
   "cell_type": "code",
   "execution_count": null,
   "id": "f7608cf1",
   "metadata": {},
   "outputs": [],
   "source": []
  }
 ],
 "metadata": {
  "kernelspec": {
   "display_name": "Python 3 (ipykernel)",
   "language": "python",
   "name": "python3"
  },
  "language_info": {
   "codemirror_mode": {
    "name": "ipython",
    "version": 3
   },
   "file_extension": ".py",
   "mimetype": "text/x-python",
   "name": "python",
   "nbconvert_exporter": "python",
   "pygments_lexer": "ipython3",
   "version": "3.9.12"
  }
 },
 "nbformat": 4,
 "nbformat_minor": 5
}
